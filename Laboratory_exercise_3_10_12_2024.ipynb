{
 "cells": [
  {
   "cell_type": "markdown",
   "metadata": {
    "id": "rODb9vHvIEbp"
   },
   "source": [
    "# Requirements"
   ]
  },
  {
   "cell_type": "code",
   "execution_count": 1,
   "metadata": {},
   "outputs": [
    {
     "name": "stdout",
     "output_type": "stream",
     "text": [
      "Requirement already satisfied: tensorflow in c:\\users\\anast\\anaconda3\\lib\\site-packages (2.18.0)\n",
      "Requirement already satisfied: keras in c:\\users\\anast\\anaconda3\\lib\\site-packages (3.7.0)\n",
      "Requirement already satisfied: tensorflow-intel==2.18.0 in c:\\users\\anast\\anaconda3\\lib\\site-packages (from tensorflow) (2.18.0)\n",
      "Requirement already satisfied: absl-py>=1.0.0 in c:\\users\\anast\\anaconda3\\lib\\site-packages (from tensorflow-intel==2.18.0->tensorflow) (2.1.0)\n",
      "Requirement already satisfied: astunparse>=1.6.0 in c:\\users\\anast\\anaconda3\\lib\\site-packages (from tensorflow-intel==2.18.0->tensorflow) (1.6.3)\n",
      "Requirement already satisfied: flatbuffers>=24.3.25 in c:\\users\\anast\\anaconda3\\lib\\site-packages (from tensorflow-intel==2.18.0->tensorflow) (24.3.25)\n",
      "Requirement already satisfied: gast!=0.5.0,!=0.5.1,!=0.5.2,>=0.2.1 in c:\\users\\anast\\anaconda3\\lib\\site-packages (from tensorflow-intel==2.18.0->tensorflow) (0.6.0)\n",
      "Requirement already satisfied: google-pasta>=0.1.1 in c:\\users\\anast\\anaconda3\\lib\\site-packages (from tensorflow-intel==2.18.0->tensorflow) (0.2.0)\n",
      "Requirement already satisfied: libclang>=13.0.0 in c:\\users\\anast\\anaconda3\\lib\\site-packages (from tensorflow-intel==2.18.0->tensorflow) (18.1.1)\n",
      "Requirement already satisfied: opt-einsum>=2.3.2 in c:\\users\\anast\\anaconda3\\lib\\site-packages (from tensorflow-intel==2.18.0->tensorflow) (3.4.0)\n",
      "Requirement already satisfied: packaging in c:\\users\\anast\\anaconda3\\lib\\site-packages (from tensorflow-intel==2.18.0->tensorflow) (24.1)\n",
      "Requirement already satisfied: protobuf!=4.21.0,!=4.21.1,!=4.21.2,!=4.21.3,!=4.21.4,!=4.21.5,<6.0.0dev,>=3.20.3 in c:\\users\\anast\\anaconda3\\lib\\site-packages (from tensorflow-intel==2.18.0->tensorflow) (4.25.3)\n",
      "Requirement already satisfied: requests<3,>=2.21.0 in c:\\users\\anast\\anaconda3\\lib\\site-packages (from tensorflow-intel==2.18.0->tensorflow) (2.32.3)\n",
      "Requirement already satisfied: setuptools in c:\\users\\anast\\anaconda3\\lib\\site-packages (from tensorflow-intel==2.18.0->tensorflow) (75.1.0)\n",
      "Requirement already satisfied: six>=1.12.0 in c:\\users\\anast\\anaconda3\\lib\\site-packages (from tensorflow-intel==2.18.0->tensorflow) (1.16.0)\n",
      "Requirement already satisfied: termcolor>=1.1.0 in c:\\users\\anast\\anaconda3\\lib\\site-packages (from tensorflow-intel==2.18.0->tensorflow) (2.5.0)\n",
      "Requirement already satisfied: typing-extensions>=3.6.6 in c:\\users\\anast\\anaconda3\\lib\\site-packages (from tensorflow-intel==2.18.0->tensorflow) (4.11.0)\n",
      "Requirement already satisfied: wrapt>=1.11.0 in c:\\users\\anast\\anaconda3\\lib\\site-packages (from tensorflow-intel==2.18.0->tensorflow) (1.14.1)\n",
      "Requirement already satisfied: grpcio<2.0,>=1.24.3 in c:\\users\\anast\\anaconda3\\lib\\site-packages (from tensorflow-intel==2.18.0->tensorflow) (1.68.1)\n",
      "Requirement already satisfied: tensorboard<2.19,>=2.18 in c:\\users\\anast\\anaconda3\\lib\\site-packages (from tensorflow-intel==2.18.0->tensorflow) (2.18.0)\n",
      "Requirement already satisfied: numpy<2.1.0,>=1.26.0 in c:\\users\\anast\\anaconda3\\lib\\site-packages (from tensorflow-intel==2.18.0->tensorflow) (1.26.4)\n",
      "Requirement already satisfied: h5py>=3.11.0 in c:\\users\\anast\\anaconda3\\lib\\site-packages (from tensorflow-intel==2.18.0->tensorflow) (3.11.0)\n",
      "Requirement already satisfied: ml-dtypes<0.5.0,>=0.4.0 in c:\\users\\anast\\anaconda3\\lib\\site-packages (from tensorflow-intel==2.18.0->tensorflow) (0.4.1)\n",
      "Requirement already satisfied: rich in c:\\users\\anast\\anaconda3\\lib\\site-packages (from keras) (13.7.1)\n",
      "Requirement already satisfied: namex in c:\\users\\anast\\anaconda3\\lib\\site-packages (from keras) (0.0.8)\n",
      "Requirement already satisfied: optree in c:\\users\\anast\\anaconda3\\lib\\site-packages (from keras) (0.13.1)\n",
      "Requirement already satisfied: markdown-it-py>=2.2.0 in c:\\users\\anast\\anaconda3\\lib\\site-packages (from rich->keras) (2.2.0)\n",
      "Requirement already satisfied: pygments<3.0.0,>=2.13.0 in c:\\users\\anast\\anaconda3\\lib\\site-packages (from rich->keras) (2.15.1)\n",
      "Requirement already satisfied: wheel<1.0,>=0.23.0 in c:\\users\\anast\\anaconda3\\lib\\site-packages (from astunparse>=1.6.0->tensorflow-intel==2.18.0->tensorflow) (0.44.0)\n",
      "Requirement already satisfied: mdurl~=0.1 in c:\\users\\anast\\anaconda3\\lib\\site-packages (from markdown-it-py>=2.2.0->rich->keras) (0.1.0)\n",
      "Requirement already satisfied: charset-normalizer<4,>=2 in c:\\users\\anast\\anaconda3\\lib\\site-packages (from requests<3,>=2.21.0->tensorflow-intel==2.18.0->tensorflow) (3.3.2)\n",
      "Requirement already satisfied: idna<4,>=2.5 in c:\\users\\anast\\anaconda3\\lib\\site-packages (from requests<3,>=2.21.0->tensorflow-intel==2.18.0->tensorflow) (3.7)\n",
      "Requirement already satisfied: urllib3<3,>=1.21.1 in c:\\users\\anast\\anaconda3\\lib\\site-packages (from requests<3,>=2.21.0->tensorflow-intel==2.18.0->tensorflow) (2.2.3)\n",
      "Requirement already satisfied: certifi>=2017.4.17 in c:\\users\\anast\\anaconda3\\lib\\site-packages (from requests<3,>=2.21.0->tensorflow-intel==2.18.0->tensorflow) (2024.8.30)\n",
      "Requirement already satisfied: markdown>=2.6.8 in c:\\users\\anast\\anaconda3\\lib\\site-packages (from tensorboard<2.19,>=2.18->tensorflow-intel==2.18.0->tensorflow) (3.4.1)\n",
      "Requirement already satisfied: tensorboard-data-server<0.8.0,>=0.7.0 in c:\\users\\anast\\anaconda3\\lib\\site-packages (from tensorboard<2.19,>=2.18->tensorflow-intel==2.18.0->tensorflow) (0.7.2)\n",
      "Requirement already satisfied: werkzeug>=1.0.1 in c:\\users\\anast\\anaconda3\\lib\\site-packages (from tensorboard<2.19,>=2.18->tensorflow-intel==2.18.0->tensorflow) (3.0.3)\n",
      "Requirement already satisfied: MarkupSafe>=2.1.1 in c:\\users\\anast\\anaconda3\\lib\\site-packages (from werkzeug>=1.0.1->tensorboard<2.19,>=2.18->tensorflow-intel==2.18.0->tensorflow) (2.1.3)\n"
     ]
    }
   ],
   "source": [
    "!pip install tensorflow keras"
   ]
  },
  {
   "cell_type": "code",
   "execution_count": 2,
   "metadata": {
    "id": "-rgNa1IOH9KV"
   },
   "outputs": [],
   "source": [
    "import pandas as pd"
   ]
  },
  {
   "cell_type": "code",
   "execution_count": 5,
   "metadata": {
    "id": "U4KmHBd2cdx9"
   },
   "outputs": [],
   "source": [
    "import pandas as pd\n",
    "import seaborn as sns\n",
    "import matplotlib.pyplot as plt\n",
    "from sklearn.model_selection import train_test_split\n",
    "from sklearn.metrics import r2_score\n",
    "from sklearn.preprocessing import MinMaxScaler\n",
    "from keras.models import Sequential\n",
    "from keras.layers import Input, LSTM, Dense"
   ]
  },
  {
   "cell_type": "markdown",
   "metadata": {
    "id": "_rAh_91OIjeS"
   },
   "source": [
    "## Introduction\n",
    "In this laboratory assignment, the focus is on time series forecasting, specifically targeting the prediction of the current **close price** for Bitcoin. To accomplish this, you will use data from the preceding 7 days, and past statistics. \n"
   ]
  },
  {
   "cell_type": "markdown",
   "metadata": {
    "id": "zBYI-EypaWom"
   },
   "source": [
    "## The Amazon Stock Price Dataset"
   ]
  },
  {
   "cell_type": "markdown",
   "metadata": {
    "id": "iAtPoYzAZo1v"
   },
   "source": [
    "The dataset comprises the following columns:\n",
    "- date - the date of the recorded price\n",
    "- symbol - the resource for prediction\n",
    "- open - the open price of BTC\n",
    "- high - the high price of BTC\n",
    "- low - the low price of BTC\n",
    "- volumeBTC - the volume of trades BTC\n",
    "- volumeUSD - the volume of trades USD\n",
    "- close - the close price of BTC\n",
    "\n",
    "Target:\n",
    "close"
   ]
  },
  {
   "cell_type": "markdown",
   "metadata": {
    "id": "DCm1qm1mZwMr"
   },
   "source": [
    "Load the dataset into a `pandas` data frame."
   ]
  },
  {
   "cell_type": "code",
   "execution_count": 51,
   "metadata": {
    "id": "KMOn4fgcZn8s"
   },
   "outputs": [
    {
     "data": {
      "text/html": [
       "<div>\n",
       "<style scoped>\n",
       "    .dataframe tbody tr th:only-of-type {\n",
       "        vertical-align: middle;\n",
       "    }\n",
       "\n",
       "    .dataframe tbody tr th {\n",
       "        vertical-align: top;\n",
       "    }\n",
       "\n",
       "    .dataframe thead th {\n",
       "        text-align: right;\n",
       "    }\n",
       "</style>\n",
       "<table border=\"1\" class=\"dataframe\">\n",
       "  <thead>\n",
       "    <tr style=\"text-align: right;\">\n",
       "      <th></th>\n",
       "      <th>date</th>\n",
       "      <th>symbol</th>\n",
       "      <th>open</th>\n",
       "      <th>high</th>\n",
       "      <th>low</th>\n",
       "      <th>close</th>\n",
       "      <th>Volume BTC</th>\n",
       "      <th>Volume USD</th>\n",
       "    </tr>\n",
       "  </thead>\n",
       "  <tbody>\n",
       "    <tr>\n",
       "      <th>846</th>\n",
       "      <td>11/6/2019 0:00</td>\n",
       "      <td>BTC/USD</td>\n",
       "      <td>9319.10</td>\n",
       "      <td>9448.19</td>\n",
       "      <td>9254.68</td>\n",
       "      <td>9344.78</td>\n",
       "      <td>4.670235e+03</td>\n",
       "      <td>4.364232e+07</td>\n",
       "    </tr>\n",
       "    <tr>\n",
       "      <th>2108</th>\n",
       "      <td>5/23/2016 0:00</td>\n",
       "      <td>BTC/USD</td>\n",
       "      <td>438.72</td>\n",
       "      <td>442.91</td>\n",
       "      <td>436.40</td>\n",
       "      <td>442.29</td>\n",
       "      <td>1.126275e+06</td>\n",
       "      <td>2.555940e+03</td>\n",
       "    </tr>\n",
       "    <tr>\n",
       "      <th>1215</th>\n",
       "      <td>11/2/2018 0:00</td>\n",
       "      <td>BTC/USD</td>\n",
       "      <td>6343.85</td>\n",
       "      <td>6381.25</td>\n",
       "      <td>6328.33</td>\n",
       "      <td>6350.43</td>\n",
       "      <td>2.678069e+03</td>\n",
       "      <td>1.700689e+07</td>\n",
       "    </tr>\n",
       "    <tr>\n",
       "      <th>282</th>\n",
       "      <td>5/23/2021 0:00</td>\n",
       "      <td>BTC/USD</td>\n",
       "      <td>37474.34</td>\n",
       "      <td>38311.74</td>\n",
       "      <td>31107.46</td>\n",
       "      <td>34706.79</td>\n",
       "      <td>9.376292e+03</td>\n",
       "      <td>3.254210e+08</td>\n",
       "    </tr>\n",
       "    <tr>\n",
       "      <th>763</th>\n",
       "      <td>1/28/2020 0:00</td>\n",
       "      <td>BTC/USD</td>\n",
       "      <td>8894.57</td>\n",
       "      <td>9413.24</td>\n",
       "      <td>8876.00</td>\n",
       "      <td>9400.00</td>\n",
       "      <td>9.565559e+03</td>\n",
       "      <td>8.991626e+07</td>\n",
       "    </tr>\n",
       "  </tbody>\n",
       "</table>\n",
       "</div>"
      ],
      "text/plain": [
       "                date   symbol      open      high       low     close  \\\n",
       "846   11/6/2019 0:00  BTC/USD   9319.10   9448.19   9254.68   9344.78   \n",
       "2108  5/23/2016 0:00  BTC/USD    438.72    442.91    436.40    442.29   \n",
       "1215  11/2/2018 0:00  BTC/USD   6343.85   6381.25   6328.33   6350.43   \n",
       "282   5/23/2021 0:00  BTC/USD  37474.34  38311.74  31107.46  34706.79   \n",
       "763   1/28/2020 0:00  BTC/USD   8894.57   9413.24   8876.00   9400.00   \n",
       "\n",
       "        Volume BTC    Volume USD  \n",
       "846   4.670235e+03  4.364232e+07  \n",
       "2108  1.126275e+06  2.555940e+03  \n",
       "1215  2.678069e+03  1.700689e+07  \n",
       "282   9.376292e+03  3.254210e+08  \n",
       "763   9.565559e+03  8.991626e+07  "
      ]
     },
     "execution_count": 51,
     "metadata": {},
     "output_type": "execute_result"
    }
   ],
   "source": [
    "df = pd.read_csv('BTC-Daily.csv')\n",
    "df.sample(5)"
   ]
  },
  {
   "cell_type": "code",
   "execution_count": 53,
   "metadata": {},
   "outputs": [],
   "source": [
    "df = df.drop(columns=['symbol'])"
   ]
  },
  {
   "cell_type": "markdown",
   "metadata": {
    "id": "5slwyyhCKRo9"
   },
   "source": [
    "Explore the dataset using visualizations of your choice."
   ]
  },
  {
   "cell_type": "markdown",
   "metadata": {
    "id": "hZceBEFuiGpI"
   },
   "source": [
    "# Feauture Extraction\n",
    "Select the relevant features for prediction and apply a lag of up to 7 days to each chosen feature\n",
    "\n",
    "Hint: Use `df['column_name'].shift(period)`. Check the documentation at https://pandas.pydata.org/docs/reference/api/pandas.DataFrame.shift.html."
   ]
  },
  {
   "cell_type": "code",
   "execution_count": 15,
   "metadata": {
    "id": "qHwGg9ieiFL1"
   },
   "outputs": [],
   "source": [
    "data=df\n",
    "data['Date'] = pd.to_datetime(data['date'])\n",
    "data = data.set_index('date')"
   ]
  },
  {
   "cell_type": "code",
   "execution_count": 17,
   "metadata": {},
   "outputs": [
    {
     "data": {
      "text/html": [
       "<div>\n",
       "<style scoped>\n",
       "    .dataframe tbody tr th:only-of-type {\n",
       "        vertical-align: middle;\n",
       "    }\n",
       "\n",
       "    .dataframe tbody tr th {\n",
       "        vertical-align: top;\n",
       "    }\n",
       "\n",
       "    .dataframe thead th {\n",
       "        text-align: right;\n",
       "    }\n",
       "</style>\n",
       "<table border=\"1\" class=\"dataframe\">\n",
       "  <thead>\n",
       "    <tr style=\"text-align: right;\">\n",
       "      <th></th>\n",
       "      <th>symbol</th>\n",
       "      <th>open</th>\n",
       "      <th>high</th>\n",
       "      <th>low</th>\n",
       "      <th>close</th>\n",
       "      <th>Volume BTC</th>\n",
       "      <th>Volume USD</th>\n",
       "      <th>Date</th>\n",
       "    </tr>\n",
       "    <tr>\n",
       "      <th>date</th>\n",
       "      <th></th>\n",
       "      <th></th>\n",
       "      <th></th>\n",
       "      <th></th>\n",
       "      <th></th>\n",
       "      <th></th>\n",
       "      <th></th>\n",
       "      <th></th>\n",
       "    </tr>\n",
       "  </thead>\n",
       "  <tbody>\n",
       "    <tr>\n",
       "      <th>3/1/2022 0:00</th>\n",
       "      <td>BTC/USD</td>\n",
       "      <td>43221.71</td>\n",
       "      <td>43626.49</td>\n",
       "      <td>43185.48</td>\n",
       "      <td>43185.48</td>\n",
       "      <td>49.006289</td>\n",
       "      <td>2.116360e+06</td>\n",
       "      <td>2022-03-01</td>\n",
       "    </tr>\n",
       "    <tr>\n",
       "      <th>2/28/2022 0:00</th>\n",
       "      <td>BTC/USD</td>\n",
       "      <td>37717.10</td>\n",
       "      <td>44256.08</td>\n",
       "      <td>37468.99</td>\n",
       "      <td>43178.98</td>\n",
       "      <td>3160.618070</td>\n",
       "      <td>1.364723e+08</td>\n",
       "      <td>2022-02-28</td>\n",
       "    </tr>\n",
       "    <tr>\n",
       "      <th>2/27/2022 0:00</th>\n",
       "      <td>BTC/USD</td>\n",
       "      <td>39146.66</td>\n",
       "      <td>39886.92</td>\n",
       "      <td>37015.74</td>\n",
       "      <td>37712.68</td>\n",
       "      <td>1701.817043</td>\n",
       "      <td>6.418008e+07</td>\n",
       "      <td>2022-02-27</td>\n",
       "    </tr>\n",
       "    <tr>\n",
       "      <th>2/26/2022 0:00</th>\n",
       "      <td>BTC/USD</td>\n",
       "      <td>39242.64</td>\n",
       "      <td>40330.99</td>\n",
       "      <td>38600.00</td>\n",
       "      <td>39146.66</td>\n",
       "      <td>912.724087</td>\n",
       "      <td>3.573010e+07</td>\n",
       "      <td>2022-02-26</td>\n",
       "    </tr>\n",
       "    <tr>\n",
       "      <th>2/25/2022 0:00</th>\n",
       "      <td>BTC/USD</td>\n",
       "      <td>38360.93</td>\n",
       "      <td>39727.97</td>\n",
       "      <td>38027.61</td>\n",
       "      <td>39231.64</td>\n",
       "      <td>2202.851827</td>\n",
       "      <td>8.642149e+07</td>\n",
       "      <td>2022-02-25</td>\n",
       "    </tr>\n",
       "  </tbody>\n",
       "</table>\n",
       "</div>"
      ],
      "text/plain": [
       "                 symbol      open      high       low     close   Volume BTC  \\\n",
       "date                                                                           \n",
       "3/1/2022 0:00   BTC/USD  43221.71  43626.49  43185.48  43185.48    49.006289   \n",
       "2/28/2022 0:00  BTC/USD  37717.10  44256.08  37468.99  43178.98  3160.618070   \n",
       "2/27/2022 0:00  BTC/USD  39146.66  39886.92  37015.74  37712.68  1701.817043   \n",
       "2/26/2022 0:00  BTC/USD  39242.64  40330.99  38600.00  39146.66   912.724087   \n",
       "2/25/2022 0:00  BTC/USD  38360.93  39727.97  38027.61  39231.64  2202.851827   \n",
       "\n",
       "                  Volume USD       Date  \n",
       "date                                     \n",
       "3/1/2022 0:00   2.116360e+06 2022-03-01  \n",
       "2/28/2022 0:00  1.364723e+08 2022-02-28  \n",
       "2/27/2022 0:00  6.418008e+07 2022-02-27  \n",
       "2/26/2022 0:00  3.573010e+07 2022-02-26  \n",
       "2/25/2022 0:00  8.642149e+07 2022-02-25  "
      ]
     },
     "execution_count": 17,
     "metadata": {},
     "output_type": "execute_result"
    }
   ],
   "source": [
    "data = data.sort_values(by='Date', ascending=False)\n",
    "data.head()"
   ]
  },
  {
   "cell_type": "code",
   "execution_count": 27,
   "metadata": {},
   "outputs": [
    {
     "data": {
      "text/html": [
       "<div>\n",
       "<style scoped>\n",
       "    .dataframe tbody tr th:only-of-type {\n",
       "        vertical-align: middle;\n",
       "    }\n",
       "\n",
       "    .dataframe tbody tr th {\n",
       "        vertical-align: top;\n",
       "    }\n",
       "\n",
       "    .dataframe thead th {\n",
       "        text-align: right;\n",
       "    }\n",
       "</style>\n",
       "<table border=\"1\" class=\"dataframe\">\n",
       "  <thead>\n",
       "    <tr style=\"text-align: right;\">\n",
       "      <th></th>\n",
       "      <th>close_7</th>\n",
       "      <th>close_6</th>\n",
       "      <th>close_5</th>\n",
       "      <th>close_4</th>\n",
       "      <th>close_3</th>\n",
       "      <th>close_2</th>\n",
       "      <th>close_1</th>\n",
       "    </tr>\n",
       "    <tr>\n",
       "      <th>date</th>\n",
       "      <th></th>\n",
       "      <th></th>\n",
       "      <th></th>\n",
       "      <th></th>\n",
       "      <th></th>\n",
       "      <th></th>\n",
       "      <th></th>\n",
       "    </tr>\n",
       "  </thead>\n",
       "  <tbody>\n",
       "    <tr>\n",
       "      <th>3/1/2022 0:00</th>\n",
       "      <td>NaN</td>\n",
       "      <td>NaN</td>\n",
       "      <td>NaN</td>\n",
       "      <td>NaN</td>\n",
       "      <td>NaN</td>\n",
       "      <td>NaN</td>\n",
       "      <td>NaN</td>\n",
       "    </tr>\n",
       "    <tr>\n",
       "      <th>2/28/2022 0:00</th>\n",
       "      <td>NaN</td>\n",
       "      <td>NaN</td>\n",
       "      <td>NaN</td>\n",
       "      <td>NaN</td>\n",
       "      <td>NaN</td>\n",
       "      <td>NaN</td>\n",
       "      <td>43185.48</td>\n",
       "    </tr>\n",
       "    <tr>\n",
       "      <th>2/27/2022 0:00</th>\n",
       "      <td>NaN</td>\n",
       "      <td>NaN</td>\n",
       "      <td>NaN</td>\n",
       "      <td>NaN</td>\n",
       "      <td>NaN</td>\n",
       "      <td>43185.48</td>\n",
       "      <td>43178.98</td>\n",
       "    </tr>\n",
       "    <tr>\n",
       "      <th>2/26/2022 0:00</th>\n",
       "      <td>NaN</td>\n",
       "      <td>NaN</td>\n",
       "      <td>NaN</td>\n",
       "      <td>NaN</td>\n",
       "      <td>43185.48</td>\n",
       "      <td>43178.98</td>\n",
       "      <td>37712.68</td>\n",
       "    </tr>\n",
       "    <tr>\n",
       "      <th>2/25/2022 0:00</th>\n",
       "      <td>NaN</td>\n",
       "      <td>NaN</td>\n",
       "      <td>NaN</td>\n",
       "      <td>43185.48</td>\n",
       "      <td>43178.98</td>\n",
       "      <td>37712.68</td>\n",
       "      <td>39146.66</td>\n",
       "    </tr>\n",
       "    <tr>\n",
       "      <th>...</th>\n",
       "      <td>...</td>\n",
       "      <td>...</td>\n",
       "      <td>...</td>\n",
       "      <td>...</td>\n",
       "      <td>...</td>\n",
       "      <td>...</td>\n",
       "      <td>...</td>\n",
       "    </tr>\n",
       "    <tr>\n",
       "      <th>12/2/2014 0:00</th>\n",
       "      <td>350.49</td>\n",
       "      <td>364.61</td>\n",
       "      <td>376.87</td>\n",
       "      <td>375.07</td>\n",
       "      <td>374.95</td>\n",
       "      <td>365.20</td>\n",
       "      <td>376.67</td>\n",
       "    </tr>\n",
       "    <tr>\n",
       "      <th>12/1/2014 0:00</th>\n",
       "      <td>364.61</td>\n",
       "      <td>376.87</td>\n",
       "      <td>375.07</td>\n",
       "      <td>374.95</td>\n",
       "      <td>365.20</td>\n",
       "      <td>376.67</td>\n",
       "      <td>379.25</td>\n",
       "    </tr>\n",
       "    <tr>\n",
       "      <th>11/30/2014 0:00</th>\n",
       "      <td>376.87</td>\n",
       "      <td>375.07</td>\n",
       "      <td>374.95</td>\n",
       "      <td>365.20</td>\n",
       "      <td>376.67</td>\n",
       "      <td>379.25</td>\n",
       "      <td>378.39</td>\n",
       "    </tr>\n",
       "    <tr>\n",
       "      <th>11/29/2014 0:00</th>\n",
       "      <td>375.07</td>\n",
       "      <td>374.95</td>\n",
       "      <td>365.20</td>\n",
       "      <td>376.67</td>\n",
       "      <td>379.25</td>\n",
       "      <td>378.39</td>\n",
       "      <td>373.34</td>\n",
       "    </tr>\n",
       "    <tr>\n",
       "      <th>11/28/2014 0:00</th>\n",
       "      <td>374.95</td>\n",
       "      <td>365.20</td>\n",
       "      <td>376.67</td>\n",
       "      <td>379.25</td>\n",
       "      <td>378.39</td>\n",
       "      <td>373.34</td>\n",
       "      <td>376.72</td>\n",
       "    </tr>\n",
       "  </tbody>\n",
       "</table>\n",
       "<p>2651 rows × 7 columns</p>\n",
       "</div>"
      ],
      "text/plain": [
       "                 close_7  close_6  close_5   close_4   close_3   close_2  \\\n",
       "date                                                                       \n",
       "3/1/2022 0:00        NaN      NaN      NaN       NaN       NaN       NaN   \n",
       "2/28/2022 0:00       NaN      NaN      NaN       NaN       NaN       NaN   \n",
       "2/27/2022 0:00       NaN      NaN      NaN       NaN       NaN  43185.48   \n",
       "2/26/2022 0:00       NaN      NaN      NaN       NaN  43185.48  43178.98   \n",
       "2/25/2022 0:00       NaN      NaN      NaN  43185.48  43178.98  37712.68   \n",
       "...                  ...      ...      ...       ...       ...       ...   \n",
       "12/2/2014 0:00    350.49   364.61   376.87    375.07    374.95    365.20   \n",
       "12/1/2014 0:00    364.61   376.87   375.07    374.95    365.20    376.67   \n",
       "11/30/2014 0:00   376.87   375.07   374.95    365.20    376.67    379.25   \n",
       "11/29/2014 0:00   375.07   374.95   365.20    376.67    379.25    378.39   \n",
       "11/28/2014 0:00   374.95   365.20   376.67    379.25    378.39    373.34   \n",
       "\n",
       "                  close_1  \n",
       "date                       \n",
       "3/1/2022 0:00         NaN  \n",
       "2/28/2022 0:00   43185.48  \n",
       "2/27/2022 0:00   43178.98  \n",
       "2/26/2022 0:00   37712.68  \n",
       "2/25/2022 0:00   39146.66  \n",
       "...                   ...  \n",
       "12/2/2014 0:00     376.67  \n",
       "12/1/2014 0:00     379.25  \n",
       "11/30/2014 0:00    378.39  \n",
       "11/29/2014 0:00    373.34  \n",
       "11/28/2014 0:00    376.72  \n",
       "\n",
       "[2651 rows x 7 columns]"
      ]
     },
     "execution_count": 27,
     "metadata": {},
     "output_type": "execute_result"
    }
   ],
   "source": [
    "data = data[[\"close\"]].copy()\n",
    "lag = 7\n",
    "periods = range(lag, 0, -1)\n",
    "data.shift(periods=periods)"
   ]
  },
  {
   "cell_type": "code",
   "execution_count": 29,
   "metadata": {},
   "outputs": [
    {
     "data": {
      "text/html": [
       "<div>\n",
       "<style scoped>\n",
       "    .dataframe tbody tr th:only-of-type {\n",
       "        vertical-align: middle;\n",
       "    }\n",
       "\n",
       "    .dataframe tbody tr th {\n",
       "        vertical-align: top;\n",
       "    }\n",
       "\n",
       "    .dataframe thead th {\n",
       "        text-align: right;\n",
       "    }\n",
       "</style>\n",
       "<table border=\"1\" class=\"dataframe\">\n",
       "  <thead>\n",
       "    <tr style=\"text-align: right;\">\n",
       "      <th></th>\n",
       "      <th>close</th>\n",
       "      <th>close_7</th>\n",
       "      <th>close_6</th>\n",
       "      <th>close_5</th>\n",
       "      <th>close_4</th>\n",
       "      <th>close_3</th>\n",
       "      <th>close_2</th>\n",
       "      <th>close_1</th>\n",
       "    </tr>\n",
       "    <tr>\n",
       "      <th>date</th>\n",
       "      <th></th>\n",
       "      <th></th>\n",
       "      <th></th>\n",
       "      <th></th>\n",
       "      <th></th>\n",
       "      <th></th>\n",
       "      <th></th>\n",
       "      <th></th>\n",
       "    </tr>\n",
       "  </thead>\n",
       "  <tbody>\n",
       "    <tr>\n",
       "      <th>3/1/2022 0:00</th>\n",
       "      <td>43185.48</td>\n",
       "      <td>NaN</td>\n",
       "      <td>NaN</td>\n",
       "      <td>NaN</td>\n",
       "      <td>NaN</td>\n",
       "      <td>NaN</td>\n",
       "      <td>NaN</td>\n",
       "      <td>NaN</td>\n",
       "    </tr>\n",
       "    <tr>\n",
       "      <th>2/28/2022 0:00</th>\n",
       "      <td>43178.98</td>\n",
       "      <td>NaN</td>\n",
       "      <td>NaN</td>\n",
       "      <td>NaN</td>\n",
       "      <td>NaN</td>\n",
       "      <td>NaN</td>\n",
       "      <td>NaN</td>\n",
       "      <td>43185.48</td>\n",
       "    </tr>\n",
       "    <tr>\n",
       "      <th>2/27/2022 0:00</th>\n",
       "      <td>37712.68</td>\n",
       "      <td>NaN</td>\n",
       "      <td>NaN</td>\n",
       "      <td>NaN</td>\n",
       "      <td>NaN</td>\n",
       "      <td>NaN</td>\n",
       "      <td>43185.48</td>\n",
       "      <td>43178.98</td>\n",
       "    </tr>\n",
       "    <tr>\n",
       "      <th>2/26/2022 0:00</th>\n",
       "      <td>39146.66</td>\n",
       "      <td>NaN</td>\n",
       "      <td>NaN</td>\n",
       "      <td>NaN</td>\n",
       "      <td>NaN</td>\n",
       "      <td>43185.48</td>\n",
       "      <td>43178.98</td>\n",
       "      <td>37712.68</td>\n",
       "    </tr>\n",
       "    <tr>\n",
       "      <th>2/25/2022 0:00</th>\n",
       "      <td>39231.64</td>\n",
       "      <td>NaN</td>\n",
       "      <td>NaN</td>\n",
       "      <td>NaN</td>\n",
       "      <td>43185.48</td>\n",
       "      <td>43178.98</td>\n",
       "      <td>37712.68</td>\n",
       "      <td>39146.66</td>\n",
       "    </tr>\n",
       "  </tbody>\n",
       "</table>\n",
       "</div>"
      ],
      "text/plain": [
       "                   close  close_7  close_6  close_5   close_4   close_3  \\\n",
       "date                                                                      \n",
       "3/1/2022 0:00   43185.48      NaN      NaN      NaN       NaN       NaN   \n",
       "2/28/2022 0:00  43178.98      NaN      NaN      NaN       NaN       NaN   \n",
       "2/27/2022 0:00  37712.68      NaN      NaN      NaN       NaN       NaN   \n",
       "2/26/2022 0:00  39146.66      NaN      NaN      NaN       NaN  43185.48   \n",
       "2/25/2022 0:00  39231.64      NaN      NaN      NaN  43185.48  43178.98   \n",
       "\n",
       "                 close_2   close_1  \n",
       "date                                \n",
       "3/1/2022 0:00        NaN       NaN  \n",
       "2/28/2022 0:00       NaN  43185.48  \n",
       "2/27/2022 0:00  43185.48  43178.98  \n",
       "2/26/2022 0:00  43178.98  37712.68  \n",
       "2/25/2022 0:00  37712.68  39146.66  "
      ]
     },
     "execution_count": 29,
     "metadata": {},
     "output_type": "execute_result"
    }
   ],
   "source": [
    "data = pd.concat([data, data.shift(periods=periods)], axis=1)\n",
    "data.head()"
   ]
  },
  {
   "cell_type": "code",
   "execution_count": 31,
   "metadata": {},
   "outputs": [
    {
     "data": {
      "text/html": [
       "<div>\n",
       "<style scoped>\n",
       "    .dataframe tbody tr th:only-of-type {\n",
       "        vertical-align: middle;\n",
       "    }\n",
       "\n",
       "    .dataframe tbody tr th {\n",
       "        vertical-align: top;\n",
       "    }\n",
       "\n",
       "    .dataframe thead th {\n",
       "        text-align: right;\n",
       "    }\n",
       "</style>\n",
       "<table border=\"1\" class=\"dataframe\">\n",
       "  <thead>\n",
       "    <tr style=\"text-align: right;\">\n",
       "      <th></th>\n",
       "      <th>close</th>\n",
       "      <th>close_7</th>\n",
       "      <th>close_6</th>\n",
       "      <th>close_5</th>\n",
       "      <th>close_4</th>\n",
       "      <th>close_3</th>\n",
       "      <th>close_2</th>\n",
       "      <th>close_1</th>\n",
       "    </tr>\n",
       "    <tr>\n",
       "      <th>date</th>\n",
       "      <th></th>\n",
       "      <th></th>\n",
       "      <th></th>\n",
       "      <th></th>\n",
       "      <th></th>\n",
       "      <th></th>\n",
       "      <th></th>\n",
       "      <th></th>\n",
       "    </tr>\n",
       "  </thead>\n",
       "  <tbody>\n",
       "    <tr>\n",
       "      <th>2/22/2022 0:00</th>\n",
       "      <td>38269.94</td>\n",
       "      <td>43185.48</td>\n",
       "      <td>43178.98</td>\n",
       "      <td>37712.68</td>\n",
       "      <td>39146.66</td>\n",
       "      <td>39231.64</td>\n",
       "      <td>38376.88</td>\n",
       "      <td>37274.18</td>\n",
       "    </tr>\n",
       "    <tr>\n",
       "      <th>2/21/2022 0:00</th>\n",
       "      <td>37076.60</td>\n",
       "      <td>43178.98</td>\n",
       "      <td>37712.68</td>\n",
       "      <td>39146.66</td>\n",
       "      <td>39231.64</td>\n",
       "      <td>38376.88</td>\n",
       "      <td>37274.18</td>\n",
       "      <td>38269.94</td>\n",
       "    </tr>\n",
       "    <tr>\n",
       "      <th>2/20/2022 0:00</th>\n",
       "      <td>38373.90</td>\n",
       "      <td>37712.68</td>\n",
       "      <td>39146.66</td>\n",
       "      <td>39231.64</td>\n",
       "      <td>38376.88</td>\n",
       "      <td>37274.18</td>\n",
       "      <td>38269.94</td>\n",
       "      <td>37076.60</td>\n",
       "    </tr>\n",
       "    <tr>\n",
       "      <th>2/19/2022 0:00</th>\n",
       "      <td>40109.02</td>\n",
       "      <td>39146.66</td>\n",
       "      <td>39231.64</td>\n",
       "      <td>38376.88</td>\n",
       "      <td>37274.18</td>\n",
       "      <td>38269.94</td>\n",
       "      <td>37076.60</td>\n",
       "      <td>38373.90</td>\n",
       "    </tr>\n",
       "    <tr>\n",
       "      <th>2/18/2022 0:00</th>\n",
       "      <td>39996.99</td>\n",
       "      <td>39231.64</td>\n",
       "      <td>38376.88</td>\n",
       "      <td>37274.18</td>\n",
       "      <td>38269.94</td>\n",
       "      <td>37076.60</td>\n",
       "      <td>38373.90</td>\n",
       "      <td>40109.02</td>\n",
       "    </tr>\n",
       "  </tbody>\n",
       "</table>\n",
       "</div>"
      ],
      "text/plain": [
       "                   close   close_7   close_6   close_5   close_4   close_3  \\\n",
       "date                                                                         \n",
       "2/22/2022 0:00  38269.94  43185.48  43178.98  37712.68  39146.66  39231.64   \n",
       "2/21/2022 0:00  37076.60  43178.98  37712.68  39146.66  39231.64  38376.88   \n",
       "2/20/2022 0:00  38373.90  37712.68  39146.66  39231.64  38376.88  37274.18   \n",
       "2/19/2022 0:00  40109.02  39146.66  39231.64  38376.88  37274.18  38269.94   \n",
       "2/18/2022 0:00  39996.99  39231.64  38376.88  37274.18  38269.94  37076.60   \n",
       "\n",
       "                 close_2   close_1  \n",
       "date                                \n",
       "2/22/2022 0:00  38376.88  37274.18  \n",
       "2/21/2022 0:00  37274.18  38269.94  \n",
       "2/20/2022 0:00  38269.94  37076.60  \n",
       "2/19/2022 0:00  37076.60  38373.90  \n",
       "2/18/2022 0:00  38373.90  40109.02  "
      ]
     },
     "execution_count": 31,
     "metadata": {},
     "output_type": "execute_result"
    }
   ],
   "source": [
    "data.dropna(axis=0, inplace=True)\n",
    "data.head()"
   ]
  },
  {
   "cell_type": "markdown",
   "metadata": {
    "id": "tls69_PrbJKW"
   },
   "source": [
    "## Dataset Splitting\n",
    "Partition the dataset into training and testing sets with an 80:20 ratio.\n",
    "\n",
    "**WARNING: DO NOT SHUFFLE THE DATASET.**\n",
    "\n"
   ]
  },
  {
   "cell_type": "code",
   "execution_count": 39,
   "metadata": {
    "id": "PjGGGMxebeoB"
   },
   "outputs": [],
   "source": [
    "X, y = data.drop(columns=[\"close\"]), data[\"close\"]\n",
    "X_train, X_test, y_train, y_test = train_test_split(X, y, test_size=0.2, shuffle=False)"
   ]
  },
  {
   "cell_type": "code",
   "execution_count": 65,
   "metadata": {},
   "outputs": [],
   "source": [
    "scaler = MinMaxScaler()\n",
    "X_train = scaler.fit_transform(X_train)\n",
    "X_test = scaler.transform(X_test)"
   ]
  },
  {
   "cell_type": "code",
   "execution_count": 69,
   "metadata": {},
   "outputs": [
    {
     "data": {
      "text/plain": [
       "2115"
      ]
     },
     "execution_count": 69,
     "metadata": {},
     "output_type": "execute_result"
    }
   ],
   "source": [
    "X_train.shape[0]"
   ]
  },
  {
   "cell_type": "code",
   "execution_count": 79,
   "metadata": {},
   "outputs": [
    {
     "data": {
      "text/plain": [
       "(2115, 7, 1)"
      ]
     },
     "execution_count": 79,
     "metadata": {},
     "output_type": "execute_result"
    }
   ],
   "source": [
    "(X_train.shape[0], lag, (X_train.shape[1] // lag))"
   ]
  },
  {
   "cell_type": "code",
   "execution_count": 75,
   "metadata": {},
   "outputs": [],
   "source": [
    "X_train = X_train.reshape(X_train.shape[0], lag, (X_train.shape[1] // lag))\n",
    "X_test = X_test.reshape(X_test.shape[0], lag, (X_test.shape[1] // lag))"
   ]
  },
  {
   "cell_type": "code",
   "execution_count": 81,
   "metadata": {},
   "outputs": [
    {
     "data": {
      "text/plain": [
       "array([[[6.36872729e-01],\n",
       "        [6.36775890e-01],\n",
       "        [5.55336582e-01],\n",
       "        ...,\n",
       "        [5.77966706e-01],\n",
       "        [5.65232121e-01],\n",
       "        [5.48803619e-01]],\n",
       "\n",
       "       [[6.36775890e-01],\n",
       "        [5.55336582e-01],\n",
       "        [5.76700638e-01],\n",
       "        ...,\n",
       "        [5.65232121e-01],\n",
       "        [5.48803619e-01],\n",
       "        [5.63638883e-01]],\n",
       "\n",
       "       [[5.55336582e-01],\n",
       "        [5.76700638e-01],\n",
       "        [5.77966706e-01],\n",
       "        ...,\n",
       "        [5.48803619e-01],\n",
       "        [5.63638883e-01],\n",
       "        [5.45859986e-01]],\n",
       "\n",
       "       ...,\n",
       "\n",
       "       [[5.63160792e-05],\n",
       "        [2.24817364e-04],\n",
       "        [2.25860254e-04],\n",
       "        ...,\n",
       "        [2.92456253e-04],\n",
       "        [2.61169542e-04],\n",
       "        [2.71002508e-04]],\n",
       "\n",
       "       [[2.24817364e-04],\n",
       "        [2.25860254e-04],\n",
       "        [2.63851260e-04],\n",
       "        ...,\n",
       "        [2.61169542e-04],\n",
       "        [2.71002508e-04],\n",
       "        [2.54316262e-04]],\n",
       "\n",
       "       [[2.25860254e-04],\n",
       "        [2.63851260e-04],\n",
       "        [2.92456253e-04],\n",
       "        ...,\n",
       "        [2.71002508e-04],\n",
       "        [2.54316262e-04],\n",
       "        [2.10961821e-04]]])"
      ]
     },
     "execution_count": 81,
     "metadata": {},
     "output_type": "execute_result"
    }
   ],
   "source": [
    "X_train"
   ]
  },
  {
   "cell_type": "markdown",
   "metadata": {
    "id": "VIkAR1Hibiwr"
   },
   "source": [
    "## Neural Networks"
   ]
  },
  {
   "cell_type": "markdown",
   "metadata": {
    "id": "qWn1pafKbnxH"
   },
   "source": [
    "Create an LSTM model and train it using the `train` function."
   ]
  },
  {
   "cell_type": "code",
   "execution_count": 85,
   "metadata": {
    "id": "IXFIrQthbnkb"
   },
   "outputs": [],
   "source": [
    "model = Sequential([\n",
    "    Input((lag, (X_train.shape[1] // lag))), # (timesteps, features)\n",
    "    LSTM(64, activation=\"relu\", return_sequences=True),\n",
    "    LSTM(32, activation=\"relu\"),\n",
    "    Dense(1, activation=\"linear\")\n",
    "])"
   ]
  },
  {
   "cell_type": "code",
   "execution_count": 87,
   "metadata": {},
   "outputs": [],
   "source": [
    "model.compile(\n",
    "    loss=\"mean_squared_error\",\n",
    "    optimizer=\"adam\",\n",
    "    metrics=[\"mean_squared_error\"],\n",
    ")"
   ]
  },
  {
   "cell_type": "code",
   "execution_count": 91,
   "metadata": {},
   "outputs": [
    {
     "name": "stdout",
     "output_type": "stream",
     "text": [
      "Epoch 1/64\n",
      "\u001b[1m212/212\u001b[0m \u001b[32m━━━━━━━━━━━━━━━━━━━━\u001b[0m\u001b[37m\u001b[0m \u001b[1m10s\u001b[0m 15ms/step - loss: 486808704.0000 - mean_squared_error: 486808704.0000 - val_loss: 32073290.0000 - val_mean_squared_error: 32073290.0000\n",
      "Epoch 2/64\n",
      "\u001b[1m212/212\u001b[0m \u001b[32m━━━━━━━━━━━━━━━━━━━━\u001b[0m\u001b[37m\u001b[0m \u001b[1m2s\u001b[0m 11ms/step - loss: 12359125.0000 - mean_squared_error: 12359125.0000 - val_loss: 16223629.0000 - val_mean_squared_error: 16223629.0000\n",
      "Epoch 3/64\n",
      "\u001b[1m212/212\u001b[0m \u001b[32m━━━━━━━━━━━━━━━━━━━━\u001b[0m\u001b[37m\u001b[0m \u001b[1m3s\u001b[0m 13ms/step - loss: 10216777.0000 - mean_squared_error: 10216777.0000 - val_loss: 17940128.0000 - val_mean_squared_error: 17940128.0000\n",
      "Epoch 4/64\n",
      "\u001b[1m212/212\u001b[0m \u001b[32m━━━━━━━━━━━━━━━━━━━━\u001b[0m\u001b[37m\u001b[0m \u001b[1m2s\u001b[0m 11ms/step - loss: 11739503.0000 - mean_squared_error: 11739503.0000 - val_loss: 12787282.0000 - val_mean_squared_error: 12787282.0000\n",
      "Epoch 5/64\n",
      "\u001b[1m212/212\u001b[0m \u001b[32m━━━━━━━━━━━━━━━━━━━━\u001b[0m\u001b[37m\u001b[0m \u001b[1m3s\u001b[0m 12ms/step - loss: 10533970.0000 - mean_squared_error: 10533970.0000 - val_loss: 13496193.0000 - val_mean_squared_error: 13496193.0000\n",
      "Epoch 6/64\n",
      "\u001b[1m212/212\u001b[0m \u001b[32m━━━━━━━━━━━━━━━━━━━━\u001b[0m\u001b[37m\u001b[0m \u001b[1m3s\u001b[0m 12ms/step - loss: 10455580.0000 - mean_squared_error: 10455580.0000 - val_loss: 13637337.0000 - val_mean_squared_error: 13637337.0000\n",
      "Epoch 7/64\n",
      "\u001b[1m212/212\u001b[0m \u001b[32m━━━━━━━━━━━━━━━━━━━━\u001b[0m\u001b[37m\u001b[0m \u001b[1m3s\u001b[0m 12ms/step - loss: 11383220.0000 - mean_squared_error: 11383220.0000 - val_loss: 11528942.0000 - val_mean_squared_error: 11528942.0000\n",
      "Epoch 8/64\n",
      "\u001b[1m212/212\u001b[0m \u001b[32m━━━━━━━━━━━━━━━━━━━━\u001b[0m\u001b[37m\u001b[0m \u001b[1m3s\u001b[0m 12ms/step - loss: 10472453.0000 - mean_squared_error: 10472453.0000 - val_loss: 11788489.0000 - val_mean_squared_error: 11788489.0000\n",
      "Epoch 9/64\n",
      "\u001b[1m212/212\u001b[0m \u001b[32m━━━━━━━━━━━━━━━━━━━━\u001b[0m\u001b[37m\u001b[0m \u001b[1m3s\u001b[0m 15ms/step - loss: 10408818.0000 - mean_squared_error: 10408818.0000 - val_loss: 12617525.0000 - val_mean_squared_error: 12617525.0000\n",
      "Epoch 10/64\n",
      "\u001b[1m212/212\u001b[0m \u001b[32m━━━━━━━━━━━━━━━━━━━━\u001b[0m\u001b[37m\u001b[0m \u001b[1m3s\u001b[0m 15ms/step - loss: 10963657.0000 - mean_squared_error: 10963657.0000 - val_loss: 17579614.0000 - val_mean_squared_error: 17579614.0000\n",
      "Epoch 11/64\n",
      "\u001b[1m212/212\u001b[0m \u001b[32m━━━━━━━━━━━━━━━━━━━━\u001b[0m\u001b[37m\u001b[0m \u001b[1m2s\u001b[0m 11ms/step - loss: 10268089.0000 - mean_squared_error: 10268089.0000 - val_loss: 12413784.0000 - val_mean_squared_error: 12413784.0000\n",
      "Epoch 12/64\n",
      "\u001b[1m212/212\u001b[0m \u001b[32m━━━━━━━━━━━━━━━━━━━━\u001b[0m\u001b[37m\u001b[0m \u001b[1m3s\u001b[0m 12ms/step - loss: 9693863.0000 - mean_squared_error: 9693863.0000 - val_loss: 12901426.0000 - val_mean_squared_error: 12901426.0000\n",
      "Epoch 13/64\n",
      "\u001b[1m212/212\u001b[0m \u001b[32m━━━━━━━━━━━━━━━━━━━━\u001b[0m\u001b[37m\u001b[0m \u001b[1m3s\u001b[0m 15ms/step - loss: 11637728.0000 - mean_squared_error: 11637728.0000 - val_loss: 15408450.0000 - val_mean_squared_error: 15408450.0000\n",
      "Epoch 14/64\n",
      "\u001b[1m212/212\u001b[0m \u001b[32m━━━━━━━━━━━━━━━━━━━━\u001b[0m\u001b[37m\u001b[0m \u001b[1m3s\u001b[0m 13ms/step - loss: 10489324.0000 - mean_squared_error: 10489324.0000 - val_loss: 13729016.0000 - val_mean_squared_error: 13729016.0000\n",
      "Epoch 15/64\n",
      "\u001b[1m212/212\u001b[0m \u001b[32m━━━━━━━━━━━━━━━━━━━━\u001b[0m\u001b[37m\u001b[0m \u001b[1m3s\u001b[0m 13ms/step - loss: 9061255.0000 - mean_squared_error: 9061255.0000 - val_loss: 8897608.0000 - val_mean_squared_error: 8897608.0000\n",
      "Epoch 16/64\n",
      "\u001b[1m212/212\u001b[0m \u001b[32m━━━━━━━━━━━━━━━━━━━━\u001b[0m\u001b[37m\u001b[0m \u001b[1m3s\u001b[0m 13ms/step - loss: 9302419.0000 - mean_squared_error: 9302419.0000 - val_loss: 13565456.0000 - val_mean_squared_error: 13565456.0000\n",
      "Epoch 17/64\n",
      "\u001b[1m212/212\u001b[0m \u001b[32m━━━━━━━━━━━━━━━━━━━━\u001b[0m\u001b[37m\u001b[0m \u001b[1m3s\u001b[0m 12ms/step - loss: 10014084.0000 - mean_squared_error: 10014084.0000 - val_loss: 13057029.0000 - val_mean_squared_error: 13057029.0000\n",
      "Epoch 18/64\n",
      "\u001b[1m212/212\u001b[0m \u001b[32m━━━━━━━━━━━━━━━━━━━━\u001b[0m\u001b[37m\u001b[0m \u001b[1m3s\u001b[0m 14ms/step - loss: 9945913.0000 - mean_squared_error: 9945913.0000 - val_loss: 12626894.0000 - val_mean_squared_error: 12626894.0000\n",
      "Epoch 19/64\n",
      "\u001b[1m212/212\u001b[0m \u001b[32m━━━━━━━━━━━━━━━━━━━━\u001b[0m\u001b[37m\u001b[0m \u001b[1m3s\u001b[0m 14ms/step - loss: 9705468.0000 - mean_squared_error: 9705468.0000 - val_loss: 9165271.0000 - val_mean_squared_error: 9165271.0000\n",
      "Epoch 20/64\n",
      "\u001b[1m212/212\u001b[0m \u001b[32m━━━━━━━━━━━━━━━━━━━━\u001b[0m\u001b[37m\u001b[0m \u001b[1m3s\u001b[0m 14ms/step - loss: 9707950.0000 - mean_squared_error: 9707950.0000 - val_loss: 8767440.0000 - val_mean_squared_error: 8767440.0000\n",
      "Epoch 21/64\n",
      "\u001b[1m212/212\u001b[0m \u001b[32m━━━━━━━━━━━━━━━━━━━━\u001b[0m\u001b[37m\u001b[0m \u001b[1m3s\u001b[0m 15ms/step - loss: 8694618.0000 - mean_squared_error: 8694618.0000 - val_loss: 8356702.0000 - val_mean_squared_error: 8356702.0000\n",
      "Epoch 22/64\n",
      "\u001b[1m212/212\u001b[0m \u001b[32m━━━━━━━━━━━━━━━━━━━━\u001b[0m\u001b[37m\u001b[0m \u001b[1m3s\u001b[0m 11ms/step - loss: 9526436.0000 - mean_squared_error: 9526436.0000 - val_loss: 10551050.0000 - val_mean_squared_error: 10551050.0000\n",
      "Epoch 23/64\n",
      "\u001b[1m212/212\u001b[0m \u001b[32m━━━━━━━━━━━━━━━━━━━━\u001b[0m\u001b[37m\u001b[0m \u001b[1m2s\u001b[0m 11ms/step - loss: 8720235.0000 - mean_squared_error: 8720235.0000 - val_loss: 7949036.5000 - val_mean_squared_error: 7949036.5000\n",
      "Epoch 24/64\n",
      "\u001b[1m212/212\u001b[0m \u001b[32m━━━━━━━━━━━━━━━━━━━━\u001b[0m\u001b[37m\u001b[0m \u001b[1m3s\u001b[0m 14ms/step - loss: 7560587.0000 - mean_squared_error: 7560587.0000 - val_loss: 3408511.7500 - val_mean_squared_error: 3408511.7500\n",
      "Epoch 25/64\n",
      "\u001b[1m212/212\u001b[0m \u001b[32m━━━━━━━━━━━━━━━━━━━━\u001b[0m\u001b[37m\u001b[0m \u001b[1m3s\u001b[0m 14ms/step - loss: 7664845.5000 - mean_squared_error: 7664845.5000 - val_loss: 3617136.7500 - val_mean_squared_error: 3617136.7500\n",
      "Epoch 26/64\n",
      "\u001b[1m212/212\u001b[0m \u001b[32m━━━━━━━━━━━━━━━━━━━━\u001b[0m\u001b[37m\u001b[0m \u001b[1m3s\u001b[0m 15ms/step - loss: 7520862.5000 - mean_squared_error: 7520862.5000 - val_loss: 3177306.7500 - val_mean_squared_error: 3177306.7500\n",
      "Epoch 27/64\n",
      "\u001b[1m212/212\u001b[0m \u001b[32m━━━━━━━━━━━━━━━━━━━━\u001b[0m\u001b[37m\u001b[0m \u001b[1m3s\u001b[0m 14ms/step - loss: 7093789.5000 - mean_squared_error: 7093789.5000 - val_loss: 3492365.0000 - val_mean_squared_error: 3492365.0000\n",
      "Epoch 28/64\n",
      "\u001b[1m212/212\u001b[0m \u001b[32m━━━━━━━━━━━━━━━━━━━━\u001b[0m\u001b[37m\u001b[0m \u001b[1m3s\u001b[0m 12ms/step - loss: 6644529.0000 - mean_squared_error: 6644529.0000 - val_loss: 3016366.0000 - val_mean_squared_error: 3016366.0000\n",
      "Epoch 29/64\n",
      "\u001b[1m212/212\u001b[0m \u001b[32m━━━━━━━━━━━━━━━━━━━━\u001b[0m\u001b[37m\u001b[0m \u001b[1m2s\u001b[0m 11ms/step - loss: 8602442.0000 - mean_squared_error: 8602442.0000 - val_loss: 3379161.0000 - val_mean_squared_error: 3379161.0000\n",
      "Epoch 30/64\n",
      "\u001b[1m212/212\u001b[0m \u001b[32m━━━━━━━━━━━━━━━━━━━━\u001b[0m\u001b[37m\u001b[0m \u001b[1m3s\u001b[0m 12ms/step - loss: 7887975.5000 - mean_squared_error: 7887975.5000 - val_loss: 2677204.7500 - val_mean_squared_error: 2677204.7500\n",
      "Epoch 31/64\n",
      "\u001b[1m212/212\u001b[0m \u001b[32m━━━━━━━━━━━━━━━━━━━━\u001b[0m\u001b[37m\u001b[0m \u001b[1m3s\u001b[0m 12ms/step - loss: 7323041.5000 - mean_squared_error: 7323041.5000 - val_loss: 6543238.5000 - val_mean_squared_error: 6543238.5000\n",
      "Epoch 32/64\n",
      "\u001b[1m212/212\u001b[0m \u001b[32m━━━━━━━━━━━━━━━━━━━━\u001b[0m\u001b[37m\u001b[0m \u001b[1m3s\u001b[0m 13ms/step - loss: 10060455.0000 - mean_squared_error: 10060455.0000 - val_loss: 2697028.7500 - val_mean_squared_error: 2697028.7500\n",
      "Epoch 33/64\n",
      "\u001b[1m212/212\u001b[0m \u001b[32m━━━━━━━━━━━━━━━━━━━━\u001b[0m\u001b[37m\u001b[0m \u001b[1m3s\u001b[0m 12ms/step - loss: 7533025.5000 - mean_squared_error: 7533025.5000 - val_loss: 2954410.2500 - val_mean_squared_error: 2954410.2500\n",
      "Epoch 34/64\n",
      "\u001b[1m212/212\u001b[0m \u001b[32m━━━━━━━━━━━━━━━━━━━━\u001b[0m\u001b[37m\u001b[0m \u001b[1m3s\u001b[0m 13ms/step - loss: 6942829.5000 - mean_squared_error: 6942829.5000 - val_loss: 1819064.2500 - val_mean_squared_error: 1819064.2500\n",
      "Epoch 35/64\n",
      "\u001b[1m212/212\u001b[0m \u001b[32m━━━━━━━━━━━━━━━━━━━━\u001b[0m\u001b[37m\u001b[0m \u001b[1m5s\u001b[0m 13ms/step - loss: 6481673.5000 - mean_squared_error: 6481673.5000 - val_loss: 2260039.7500 - val_mean_squared_error: 2260039.7500\n",
      "Epoch 36/64\n",
      "\u001b[1m212/212\u001b[0m \u001b[32m━━━━━━━━━━━━━━━━━━━━\u001b[0m\u001b[37m\u001b[0m \u001b[1m5s\u001b[0m 12ms/step - loss: 8079377.5000 - mean_squared_error: 8079377.5000 - val_loss: 928175.8125 - val_mean_squared_error: 928175.8125\n",
      "Epoch 37/64\n",
      "\u001b[1m212/212\u001b[0m \u001b[32m━━━━━━━━━━━━━━━━━━━━\u001b[0m\u001b[37m\u001b[0m \u001b[1m3s\u001b[0m 13ms/step - loss: 7595444.5000 - mean_squared_error: 7595444.5000 - val_loss: 1592074.5000 - val_mean_squared_error: 1592074.5000\n",
      "Epoch 38/64\n",
      "\u001b[1m212/212\u001b[0m \u001b[32m━━━━━━━━━━━━━━━━━━━━\u001b[0m\u001b[37m\u001b[0m \u001b[1m5s\u001b[0m 14ms/step - loss: 7135574.0000 - mean_squared_error: 7135574.0000 - val_loss: 1431616.7500 - val_mean_squared_error: 1431616.7500\n",
      "Epoch 39/64\n",
      "\u001b[1m212/212\u001b[0m \u001b[32m━━━━━━━━━━━━━━━━━━━━\u001b[0m\u001b[37m\u001b[0m \u001b[1m3s\u001b[0m 13ms/step - loss: 7539502.5000 - mean_squared_error: 7539502.5000 - val_loss: 2094660.7500 - val_mean_squared_error: 2094660.7500\n",
      "Epoch 40/64\n",
      "\u001b[1m212/212\u001b[0m \u001b[32m━━━━━━━━━━━━━━━━━━━━\u001b[0m\u001b[37m\u001b[0m \u001b[1m3s\u001b[0m 13ms/step - loss: 7207856.5000 - mean_squared_error: 7207856.5000 - val_loss: 1106937.3750 - val_mean_squared_error: 1106937.3750\n",
      "Epoch 41/64\n",
      "\u001b[1m212/212\u001b[0m \u001b[32m━━━━━━━━━━━━━━━━━━━━\u001b[0m\u001b[37m\u001b[0m \u001b[1m5s\u001b[0m 13ms/step - loss: 6958409.5000 - mean_squared_error: 6958409.5000 - val_loss: 1484159.7500 - val_mean_squared_error: 1484159.7500\n",
      "Epoch 42/64\n",
      "\u001b[1m212/212\u001b[0m \u001b[32m━━━━━━━━━━━━━━━━━━━━\u001b[0m\u001b[37m\u001b[0m \u001b[1m3s\u001b[0m 14ms/step - loss: 6682559.0000 - mean_squared_error: 6682559.0000 - val_loss: 316432.6562 - val_mean_squared_error: 316432.6562\n",
      "Epoch 43/64\n",
      "\u001b[1m212/212\u001b[0m \u001b[32m━━━━━━━━━━━━━━━━━━━━\u001b[0m\u001b[37m\u001b[0m \u001b[1m6s\u001b[0m 15ms/step - loss: 6463912.5000 - mean_squared_error: 6463912.5000 - val_loss: 296158.5000 - val_mean_squared_error: 296158.5000\n",
      "Epoch 44/64\n",
      "\u001b[1m212/212\u001b[0m \u001b[32m━━━━━━━━━━━━━━━━━━━━\u001b[0m\u001b[37m\u001b[0m \u001b[1m4s\u001b[0m 19ms/step - loss: 7763254.5000 - mean_squared_error: 7763254.5000 - val_loss: 1161192.7500 - val_mean_squared_error: 1161192.7500\n",
      "Epoch 45/64\n",
      "\u001b[1m212/212\u001b[0m \u001b[32m━━━━━━━━━━━━━━━━━━━━\u001b[0m\u001b[37m\u001b[0m \u001b[1m5s\u001b[0m 16ms/step - loss: 6341169.5000 - mean_squared_error: 6341169.5000 - val_loss: 658436.3750 - val_mean_squared_error: 658436.3750\n",
      "Epoch 46/64\n",
      "\u001b[1m212/212\u001b[0m \u001b[32m━━━━━━━━━━━━━━━━━━━━\u001b[0m\u001b[37m\u001b[0m \u001b[1m3s\u001b[0m 16ms/step - loss: 7242440.5000 - mean_squared_error: 7242440.5000 - val_loss: 19235.8965 - val_mean_squared_error: 19235.8965\n",
      "Epoch 47/64\n",
      "\u001b[1m212/212\u001b[0m \u001b[32m━━━━━━━━━━━━━━━━━━━━\u001b[0m\u001b[37m\u001b[0m \u001b[1m6s\u001b[0m 17ms/step - loss: 6608763.5000 - mean_squared_error: 6608763.5000 - val_loss: 1022780.3750 - val_mean_squared_error: 1022780.3750\n",
      "Epoch 48/64\n",
      "\u001b[1m212/212\u001b[0m \u001b[32m━━━━━━━━━━━━━━━━━━━━\u001b[0m\u001b[37m\u001b[0m \u001b[1m5s\u001b[0m 15ms/step - loss: 6357909.5000 - mean_squared_error: 6357909.5000 - val_loss: 544106.6250 - val_mean_squared_error: 544106.6250\n",
      "Epoch 49/64\n",
      "\u001b[1m212/212\u001b[0m \u001b[32m━━━━━━━━━━━━━━━━━━━━\u001b[0m\u001b[37m\u001b[0m \u001b[1m3s\u001b[0m 15ms/step - loss: 6812168.5000 - mean_squared_error: 6812168.5000 - val_loss: 460002.8438 - val_mean_squared_error: 460002.8438\n",
      "Epoch 50/64\n",
      "\u001b[1m212/212\u001b[0m \u001b[32m━━━━━━━━━━━━━━━━━━━━\u001b[0m\u001b[37m\u001b[0m \u001b[1m3s\u001b[0m 15ms/step - loss: 6912243.0000 - mean_squared_error: 6912243.0000 - val_loss: 596951.7500 - val_mean_squared_error: 596951.7500\n",
      "Epoch 51/64\n",
      "\u001b[1m212/212\u001b[0m \u001b[32m━━━━━━━━━━━━━━━━━━━━\u001b[0m\u001b[37m\u001b[0m \u001b[1m3s\u001b[0m 16ms/step - loss: 6384922.0000 - mean_squared_error: 6384922.0000 - val_loss: 81177.0234 - val_mean_squared_error: 81177.0234\n",
      "Epoch 52/64\n",
      "\u001b[1m212/212\u001b[0m \u001b[32m━━━━━━━━━━━━━━━━━━━━\u001b[0m\u001b[37m\u001b[0m \u001b[1m3s\u001b[0m 14ms/step - loss: 6988435.0000 - mean_squared_error: 6988435.0000 - val_loss: 316912.7812 - val_mean_squared_error: 316912.7812\n",
      "Epoch 53/64\n",
      "\u001b[1m212/212\u001b[0m \u001b[32m━━━━━━━━━━━━━━━━━━━━\u001b[0m\u001b[37m\u001b[0m \u001b[1m5s\u001b[0m 15ms/step - loss: 5914186.0000 - mean_squared_error: 5914186.0000 - val_loss: 124004.3281 - val_mean_squared_error: 124004.3281\n",
      "Epoch 54/64\n",
      "\u001b[1m212/212\u001b[0m \u001b[32m━━━━━━━━━━━━━━━━━━━━\u001b[0m\u001b[37m\u001b[0m \u001b[1m5s\u001b[0m 13ms/step - loss: 6117855.0000 - mean_squared_error: 6117855.0000 - val_loss: 288827.0625 - val_mean_squared_error: 288827.0625\n",
      "Epoch 55/64\n",
      "\u001b[1m212/212\u001b[0m \u001b[32m━━━━━━━━━━━━━━━━━━━━\u001b[0m\u001b[37m\u001b[0m \u001b[1m3s\u001b[0m 13ms/step - loss: 8001055.0000 - mean_squared_error: 8001055.0000 - val_loss: 29985.5430 - val_mean_squared_error: 29985.5430\n",
      "Epoch 56/64\n",
      "\u001b[1m212/212\u001b[0m \u001b[32m━━━━━━━━━━━━━━━━━━━━\u001b[0m\u001b[37m\u001b[0m \u001b[1m6s\u001b[0m 15ms/step - loss: 7536071.5000 - mean_squared_error: 7536071.5000 - val_loss: 92862.7969 - val_mean_squared_error: 92862.7969\n",
      "Epoch 57/64\n",
      "\u001b[1m212/212\u001b[0m \u001b[32m━━━━━━━━━━━━━━━━━━━━\u001b[0m\u001b[37m\u001b[0m \u001b[1m3s\u001b[0m 13ms/step - loss: 7420701.5000 - mean_squared_error: 7420701.5000 - val_loss: 196793.5469 - val_mean_squared_error: 196793.5469\n",
      "Epoch 58/64\n",
      "\u001b[1m212/212\u001b[0m \u001b[32m━━━━━━━━━━━━━━━━━━━━\u001b[0m\u001b[37m\u001b[0m \u001b[1m3s\u001b[0m 12ms/step - loss: 5981204.0000 - mean_squared_error: 5981204.0000 - val_loss: 51978.3984 - val_mean_squared_error: 51978.3984\n",
      "Epoch 59/64\n",
      "\u001b[1m212/212\u001b[0m \u001b[32m━━━━━━━━━━━━━━━━━━━━\u001b[0m\u001b[37m\u001b[0m \u001b[1m6s\u001b[0m 14ms/step - loss: 6628516.0000 - mean_squared_error: 6628516.0000 - val_loss: 16484.8906 - val_mean_squared_error: 16484.8906\n",
      "Epoch 60/64\n",
      "\u001b[1m212/212\u001b[0m \u001b[32m━━━━━━━━━━━━━━━━━━━━\u001b[0m\u001b[37m\u001b[0m \u001b[1m3s\u001b[0m 13ms/step - loss: 6143201.5000 - mean_squared_error: 6143201.5000 - val_loss: 248596.8281 - val_mean_squared_error: 248596.8281\n",
      "Epoch 61/64\n",
      "\u001b[1m212/212\u001b[0m \u001b[32m━━━━━━━━━━━━━━━━━━━━\u001b[0m\u001b[37m\u001b[0m \u001b[1m3s\u001b[0m 13ms/step - loss: 8723097.0000 - mean_squared_error: 8723097.0000 - val_loss: 52331.6406 - val_mean_squared_error: 52331.6406\n",
      "Epoch 62/64\n",
      "\u001b[1m212/212\u001b[0m \u001b[32m━━━━━━━━━━━━━━━━━━━━\u001b[0m\u001b[37m\u001b[0m \u001b[1m5s\u001b[0m 14ms/step - loss: 6349228.0000 - mean_squared_error: 6349228.0000 - val_loss: 867472.0625 - val_mean_squared_error: 867472.0625\n",
      "Epoch 63/64\n",
      "\u001b[1m212/212\u001b[0m \u001b[32m━━━━━━━━━━━━━━━━━━━━\u001b[0m\u001b[37m\u001b[0m \u001b[1m3s\u001b[0m 13ms/step - loss: 8415345.0000 - mean_squared_error: 8415345.0000 - val_loss: 33502.7148 - val_mean_squared_error: 33502.7148\n",
      "Epoch 64/64\n",
      "\u001b[1m212/212\u001b[0m \u001b[32m━━━━━━━━━━━━━━━━━━━━\u001b[0m\u001b[37m\u001b[0m \u001b[1m3s\u001b[0m 13ms/step - loss: 6737249.5000 - mean_squared_error: 6737249.5000 - val_loss: 61987.7227 - val_mean_squared_error: 61987.7227\n"
     ]
    }
   ],
   "source": [
    "history = model.fit(X_train, y_train, validation_split=0.2, epochs=64, batch_size=8)"
   ]
  },
  {
   "cell_type": "markdown",
   "metadata": {
    "id": "gyXZwAVab8Cp"
   },
   "source": [
    "Use the trained model to make predictions for the test set."
   ]
  },
  {
   "cell_type": "code",
   "execution_count": 103,
   "metadata": {
    "id": "EvMfVum6b_9b"
   },
   "outputs": [
    {
     "name": "stdout",
     "output_type": "stream",
     "text": [
      "\u001b[1m17/17\u001b[0m \u001b[32m━━━━━━━━━━━━━━━━━━━━\u001b[0m\u001b[37m\u001b[0m \u001b[1m0s\u001b[0m 6ms/step\n"
     ]
    }
   ],
   "source": [
    "pred_y = model.predict(X_test)"
   ]
  },
  {
   "cell_type": "markdown",
   "metadata": {
    "id": "3VxAvDPtcNCh"
   },
   "source": [
    "Assess the performance of the model by using different metrics provided by the `scikit-learn` library."
   ]
  },
  {
   "cell_type": "code",
   "execution_count": 105,
   "metadata": {
    "id": "V4axpktycQhp"
   },
   "outputs": [
    {
     "data": {
      "text/plain": [
       "-14.084100588668914"
      ]
     },
     "execution_count": 105,
     "metadata": {},
     "output_type": "execute_result"
    }
   ],
   "source": [
    "r2_score(y_test, pred_y)"
   ]
  },
  {
   "cell_type": "markdown",
   "metadata": {},
   "source": [
    "# Additional Bonus Task"
   ]
  },
  {
   "cell_type": "markdown",
   "metadata": {},
   "source": [
    "Group the data by month. You can use [pandas.Grouper](https://pandas.pydata.org/docs/reference/api/pandas.Grouper.html) function."
   ]
  },
  {
   "cell_type": "markdown",
   "metadata": {},
   "source": [
    "Create an LSTM model to predict the 'close' price on a montly frequency."
   ]
  },
  {
   "cell_type": "code",
   "execution_count": null,
   "metadata": {},
   "outputs": [],
   "source": []
  }
 ],
 "metadata": {
  "colab": {
   "provenance": []
  },
  "kernelspec": {
   "display_name": "Python 3 (ipykernel)",
   "language": "python",
   "name": "python3"
  },
  "language_info": {
   "codemirror_mode": {
    "name": "ipython",
    "version": 3
   },
   "file_extension": ".py",
   "mimetype": "text/x-python",
   "name": "python",
   "nbconvert_exporter": "python",
   "pygments_lexer": "ipython3",
   "version": "3.12.7"
  }
 },
 "nbformat": 4,
 "nbformat_minor": 4
}
